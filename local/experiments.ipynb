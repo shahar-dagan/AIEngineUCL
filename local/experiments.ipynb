{
 "cells": [
  {
   "cell_type": "code",
   "execution_count": null,
   "metadata": {},
   "outputs": [],
   "source": [
    "from main import *\n",
    "from push_to_server import push_model, remove_model_cache"
   ]
  },
  {
   "cell_type": "code",
   "execution_count": null,
   "metadata": {},
   "outputs": [],
   "source": [
    "def experiment_1():\n",
    "    hyper_parameters = dict(\n",
    "        learning_rate=0.01,\n",
    "        batch_size=20,\n",
    "        epochs=1,\n",
    "        kernel_size=(5, 5),\n",
    "        conv_filters=20,\n",
    "        dense_layer_neurons=20,\n",
    "        activation=\"swish\",\n",
    "    )\n",
    "    train_and_save(hyper_parameters)\n"
   ]
  },
  {
   "cell_type": "code",
   "execution_count": null,
   "metadata": {},
   "outputs": [],
   "source": [
    "def experiment_2():\n",
    "    hyper_parameters = dict(\n",
    "        learning_rate=0.1,\n",
    "        batch_size=50,\n",
    "        epochs=10,\n",
    "        kernel_size=(5, 5),\n",
    "        conv_filters=20,\n",
    "        dense_layer_neurons=20,\n",
    "        activation=\"swish\",\n",
    "    )\n",
    "    train_and_save(hyper_parameters)"
   ]
  },
  {
   "cell_type": "code",
   "execution_count": null,
   "metadata": {},
   "outputs": [],
   "source": [
    "remove_model_cache()"
   ]
  },
  {
   "cell_type": "code",
   "execution_count": null,
   "metadata": {},
   "outputs": [],
   "source": [
    "experiment_1()"
   ]
  },
  {
   "cell_type": "code",
   "execution_count": null,
   "metadata": {},
   "outputs": [],
   "source": [
    "push_model()"
   ]
  },
  {
   "cell_type": "code",
   "execution_count": null,
   "metadata": {},
   "outputs": [],
   "source": [
    "experiment_2()"
   ]
  },
  {
   "cell_type": "code",
   "execution_count": null,
   "metadata": {},
   "outputs": [],
   "source": [
    "push_model()"
   ]
  }
 ],
 "metadata": {
  "kernelspec": {
   "display_name": "Python 3",
   "language": "python",
   "name": "python3"
  },
  "language_info": {
   "codemirror_mode": {
    "name": "ipython",
    "version": 3
   },
   "file_extension": ".py",
   "mimetype": "text/x-python",
   "name": "python",
   "nbconvert_exporter": "python",
   "pygments_lexer": "ipython3",
   "version": "3.11.9"
  }
 },
 "nbformat": 4,
 "nbformat_minor": 2
}
